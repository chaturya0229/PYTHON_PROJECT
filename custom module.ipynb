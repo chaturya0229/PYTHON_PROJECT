{
 "cells": [
  {
   "cell_type": "code",
   "execution_count": 3,
   "id": "e4c8b9e6-03ca-491f-9402-dfc590751170",
   "metadata": {},
   "outputs": [
    {
     "name": "stdout",
     "output_type": "stream",
     "text": [
      "positive and even\n"
     ]
    }
   ],
   "source": [
    "import calu\n",
    "calu.abc(2)"
   ]
  },
  {
   "cell_type": "code",
   "execution_count": 5,
   "id": "fc41e168-0397-4253-9163-de6fd4113fb8",
   "metadata": {},
   "outputs": [
    {
     "name": "stdin",
     "output_type": "stream",
     "text": [
      " 2\n",
      " 3\n",
      " 4\n"
     ]
    },
    {
     "name": "stdout",
     "output_type": "stream",
     "text": [
      "z is greater\n"
     ]
    }
   ],
   "source": [
    "import calu\n",
    "calu.xyz()"
   ]
  },
  {
   "cell_type": "code",
   "execution_count": 11,
   "id": "e5612949-346c-4798-91d0-ff64dffe5264",
   "metadata": {},
   "outputs": [
    {
     "name": "stdout",
     "output_type": "stream",
     "text": [
      "it is a palindrome\n"
     ]
    }
   ],
   "source": [
    "import calu\n",
    "calu.palindrome(\"madam\")"
   ]
  },
  {
   "cell_type": "code",
   "execution_count": 21,
   "id": "dce8a4cf-6f6e-4f94-a4de-7250b2f47b07",
   "metadata": {},
   "outputs": [
    {
     "name": "stdout",
     "output_type": "stream",
     "text": [
      "not prime\n"
     ]
    }
   ],
   "source": [
    "import calu\n",
    "calu.number(0)"
   ]
  },
  {
   "cell_type": "code",
   "execution_count": 3,
   "id": "79367ef8-bd0e-4748-bd6c-cca5be74e1f7",
   "metadata": {},
   "outputs": [
    {
     "data": {
      "text/plain": [
       "12"
      ]
     },
     "execution_count": 3,
     "metadata": {},
     "output_type": "execute_result"
    }
   ],
   "source": [
    "import calu\n",
    "calu.hcf(36,60)"
   ]
  }
 ],
 "metadata": {
  "kernelspec": {
   "display_name": "Python 3 (ipykernel)",
   "language": "python",
   "name": "python3"
  },
  "language_info": {
   "codemirror_mode": {
    "name": "ipython",
    "version": 3
   },
   "file_extension": ".py",
   "mimetype": "text/x-python",
   "name": "python",
   "nbconvert_exporter": "python",
   "pygments_lexer": "ipython3",
   "version": "3.12.4"
  }
 },
 "nbformat": 4,
 "nbformat_minor": 5
}
